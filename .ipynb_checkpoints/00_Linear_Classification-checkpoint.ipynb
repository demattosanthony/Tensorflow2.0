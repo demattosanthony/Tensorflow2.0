{
 "cells": [
  {
   "cell_type": "markdown",
   "id": "b7104447",
   "metadata": {},
   "source": [
    "## Simple Linear Classification Model: Input Layer and Activation (Output) Layer\n",
    "\n",
    "1. Load Breast Cancer Data\n",
    "2. Learn the data\n",
    "3. Split into train and test\n",
    "4. Normalize Data\n",
    "5. Build the model\n",
    "6. Train the model\n",
    "7. Plot loss and accuracy"
   ]
  },
  {
   "cell_type": "code",
   "execution_count": 41,
   "id": "360b7d53",
   "metadata": {},
   "outputs": [],
   "source": [
    "import tensorflow as tf \n",
    "from sklearn.datasets import load_breast_cancer\n",
    "from sklearn.model_selection import train_test_split\n",
    "from sklearn.preprocessing import StandardScaler\n",
    "import matplotlib.pyplot as plt"
   ]
  },
  {
   "cell_type": "code",
   "execution_count": 42,
   "id": "dc2a0a15",
   "metadata": {},
   "outputs": [
    {
     "data": {
      "text/plain": [
       "[PhysicalDevice(name='/physical_device:GPU:0', device_type='GPU')]"
      ]
     },
     "execution_count": 42,
     "metadata": {},
     "output_type": "execute_result"
    }
   ],
   "source": [
    "tf.config.list_physical_devices('GPU')"
   ]
  },
  {
   "cell_type": "code",
   "execution_count": 43,
   "id": "f96a4950",
   "metadata": {},
   "outputs": [],
   "source": [
    "data = load_breast_cancer()"
   ]
  },
  {
   "cell_type": "code",
   "execution_count": 44,
   "id": "a8e2b5e0",
   "metadata": {},
   "outputs": [
    {
     "data": {
      "text/plain": [
       "sklearn.utils._bunch.Bunch"
      ]
     },
     "execution_count": 44,
     "metadata": {},
     "output_type": "execute_result"
    }
   ],
   "source": [
    "type(data)"
   ]
  },
  {
   "cell_type": "code",
   "execution_count": 45,
   "id": "f1519455",
   "metadata": {},
   "outputs": [
    {
     "data": {
      "text/plain": [
       "dict_keys(['data', 'target', 'frame', 'target_names', 'DESCR', 'feature_names', 'filename', 'data_module'])"
      ]
     },
     "execution_count": 45,
     "metadata": {},
     "output_type": "execute_result"
    }
   ],
   "source": [
    "data.keys()"
   ]
  },
  {
   "cell_type": "code",
   "execution_count": 46,
   "id": "396ad5fe",
   "metadata": {},
   "outputs": [
    {
     "data": {
      "text/plain": [
       "(569, 30)"
      ]
     },
     "execution_count": 46,
     "metadata": {},
     "output_type": "execute_result"
    }
   ],
   "source": [
    "data.data.shape \n",
    "# samples, features"
   ]
  },
  {
   "cell_type": "code",
   "execution_count": 47,
   "id": "41e7a4e1",
   "metadata": {},
   "outputs": [
    {
     "data": {
      "text/plain": [
       "array([0, 0, 0, 0, 0, 0, 0, 0, 0, 0, 0, 0, 0, 0, 0, 0, 0, 0, 0, 1, 1, 1,\n",
       "       0, 0, 0, 0, 0, 0, 0, 0, 0, 0, 0, 0, 0, 0, 0, 1, 0, 0, 0, 0, 0, 0,\n",
       "       0, 0, 1, 0, 1, 1, 1, 1, 1, 0, 0, 1, 0, 0, 1, 1, 1, 1, 0, 1, 0, 0,\n",
       "       1, 1, 1, 1, 0, 1, 0, 0, 1, 0, 1, 0, 0, 1, 1, 1, 0, 0, 1, 0, 0, 0,\n",
       "       1, 1, 1, 0, 1, 1, 0, 0, 1, 1, 1, 0, 0, 1, 1, 1, 1, 0, 1, 1, 0, 1,\n",
       "       1, 1, 1, 1, 1, 1, 1, 0, 0, 0, 1, 0, 0, 1, 1, 1, 0, 0, 1, 0, 1, 0,\n",
       "       0, 1, 0, 0, 1, 1, 0, 1, 1, 0, 1, 1, 1, 1, 0, 1, 1, 1, 1, 1, 1, 1,\n",
       "       1, 1, 0, 1, 1, 1, 1, 0, 0, 1, 0, 1, 1, 0, 0, 1, 1, 0, 0, 1, 1, 1,\n",
       "       1, 0, 1, 1, 0, 0, 0, 1, 0, 1, 0, 1, 1, 1, 0, 1, 1, 0, 0, 1, 0, 0,\n",
       "       0, 0, 1, 0, 0, 0, 1, 0, 1, 0, 1, 1, 0, 1, 0, 0, 0, 0, 1, 1, 0, 0,\n",
       "       1, 1, 1, 0, 1, 1, 1, 1, 1, 0, 0, 1, 1, 0, 1, 1, 0, 0, 1, 0, 1, 1,\n",
       "       1, 1, 0, 1, 1, 1, 1, 1, 0, 1, 0, 0, 0, 0, 0, 0, 0, 0, 0, 0, 0, 0,\n",
       "       0, 0, 1, 1, 1, 1, 1, 1, 0, 1, 0, 1, 1, 0, 1, 1, 0, 1, 0, 0, 1, 1,\n",
       "       1, 1, 1, 1, 1, 1, 1, 1, 1, 1, 1, 0, 1, 1, 0, 1, 0, 1, 1, 1, 1, 1,\n",
       "       1, 1, 1, 1, 1, 1, 1, 1, 1, 0, 1, 1, 1, 0, 1, 0, 1, 1, 1, 1, 0, 0,\n",
       "       0, 1, 1, 1, 1, 0, 1, 0, 1, 0, 1, 1, 1, 0, 1, 1, 1, 1, 1, 1, 1, 0,\n",
       "       0, 0, 1, 1, 1, 1, 1, 1, 1, 1, 1, 1, 1, 0, 0, 1, 0, 0, 0, 1, 0, 0,\n",
       "       1, 1, 1, 1, 1, 0, 1, 1, 1, 1, 1, 0, 1, 1, 1, 0, 1, 1, 0, 0, 1, 1,\n",
       "       1, 1, 1, 1, 0, 1, 1, 1, 1, 1, 1, 1, 0, 1, 1, 1, 1, 1, 0, 1, 1, 0,\n",
       "       1, 1, 1, 1, 1, 1, 1, 1, 1, 1, 1, 1, 0, 1, 0, 0, 1, 0, 1, 1, 1, 1,\n",
       "       1, 0, 1, 1, 0, 1, 0, 1, 1, 0, 1, 0, 1, 1, 1, 1, 1, 1, 1, 1, 0, 0,\n",
       "       1, 1, 1, 1, 1, 1, 0, 1, 1, 1, 1, 1, 1, 1, 1, 1, 1, 0, 1, 1, 1, 1,\n",
       "       1, 1, 1, 0, 1, 0, 1, 1, 0, 1, 1, 1, 1, 1, 0, 0, 1, 0, 1, 0, 1, 1,\n",
       "       1, 1, 1, 0, 1, 1, 0, 1, 0, 1, 0, 0, 1, 1, 1, 0, 1, 1, 1, 1, 1, 1,\n",
       "       1, 1, 1, 1, 1, 0, 1, 0, 0, 1, 1, 1, 1, 1, 1, 1, 1, 1, 1, 1, 1, 1,\n",
       "       1, 1, 1, 1, 1, 1, 1, 1, 1, 1, 1, 1, 0, 0, 0, 0, 0, 0, 1])"
      ]
     },
     "execution_count": 47,
     "metadata": {},
     "output_type": "execute_result"
    }
   ],
   "source": [
    "data.target"
   ]
  },
  {
   "cell_type": "code",
   "execution_count": 48,
   "id": "b7a1aba0",
   "metadata": {},
   "outputs": [
    {
     "data": {
      "text/plain": [
       "array(['malignant', 'benign'], dtype='<U9')"
      ]
     },
     "execution_count": 48,
     "metadata": {},
     "output_type": "execute_result"
    }
   ],
   "source": [
    "data.target_names"
   ]
  },
  {
   "cell_type": "code",
   "execution_count": 49,
   "id": "beffdb94",
   "metadata": {},
   "outputs": [],
   "source": [
    "# Split data sets\n",
    "X_train, X_test, Y_train, Y_test = train_test_split(data.data, data.target, test_size=0.33)\n",
    "N, D = X_train.shape"
   ]
  },
  {
   "cell_type": "code",
   "execution_count": 50,
   "id": "50c58674",
   "metadata": {},
   "outputs": [
    {
     "data": {
      "text/plain": [
       "((381, 30), (188, 30), (381,), (188,))"
      ]
     },
     "execution_count": 50,
     "metadata": {},
     "output_type": "execute_result"
    }
   ],
   "source": [
    "X_train.shape, X_test.shape, Y_train.shape, Y_test.shape"
   ]
  },
  {
   "cell_type": "code",
   "execution_count": 51,
   "id": "559bcf8f",
   "metadata": {},
   "outputs": [],
   "source": [
    "# Normalize data\n",
    "scalar = StandardScaler()\n",
    "X_train = scalar.fit_transform(X_train)\n",
    "X_test = scalar.transform(X_test)"
   ]
  },
  {
   "cell_type": "code",
   "execution_count": 52,
   "id": "3b898e47",
   "metadata": {},
   "outputs": [
    {
     "name": "stdout",
     "output_type": "stream",
     "text": [
      "Epoch 1/100\n",
      "11/12 [==========================>...] - ETA: 0s - loss: 0.7491 - accuracy: 0.5426"
     ]
    },
    {
     "name": "stderr",
     "output_type": "stream",
     "text": [
      "2022-09-05 19:37:07.481883: I tensorflow/core/grappler/optimizers/custom_graph_optimizer_registry.cc:113] Plugin optimizer for device_type GPU is enabled.\n",
      "2022-09-05 19:37:07.679385: I tensorflow/core/grappler/optimizers/custom_graph_optimizer_registry.cc:113] Plugin optimizer for device_type GPU is enabled.\n"
     ]
    },
    {
     "name": "stdout",
     "output_type": "stream",
     "text": [
      "12/12 [==============================] - 0s 18ms/step - loss: 0.7501 - accuracy: 0.5407 - val_loss: 0.6802 - val_accuracy: 0.5798\n",
      "Epoch 2/100\n",
      "12/12 [==============================] - 0s 7ms/step - loss: 0.6775 - accuracy: 0.6142 - val_loss: 0.6187 - val_accuracy: 0.6755\n",
      "Epoch 3/100\n",
      "12/12 [==============================] - 0s 6ms/step - loss: 0.6122 - accuracy: 0.6798 - val_loss: 0.5673 - val_accuracy: 0.7447\n",
      "Epoch 4/100\n",
      "12/12 [==============================] - 0s 7ms/step - loss: 0.5579 - accuracy: 0.7402 - val_loss: 0.5232 - val_accuracy: 0.7926\n",
      "Epoch 5/100\n",
      "12/12 [==============================] - 0s 7ms/step - loss: 0.5112 - accuracy: 0.7743 - val_loss: 0.4858 - val_accuracy: 0.8191\n",
      "Epoch 6/100\n",
      "12/12 [==============================] - 0s 8ms/step - loss: 0.4713 - accuracy: 0.8084 - val_loss: 0.4538 - val_accuracy: 0.8298\n",
      "Epoch 7/100\n",
      "12/12 [==============================] - 0s 7ms/step - loss: 0.4375 - accuracy: 0.8346 - val_loss: 0.4262 - val_accuracy: 0.8457\n",
      "Epoch 8/100\n",
      "12/12 [==============================] - 0s 7ms/step - loss: 0.4078 - accuracy: 0.8530 - val_loss: 0.4028 - val_accuracy: 0.8511\n",
      "Epoch 9/100\n",
      "12/12 [==============================] - 0s 7ms/step - loss: 0.3828 - accuracy: 0.8740 - val_loss: 0.3822 - val_accuracy: 0.8617\n",
      "Epoch 10/100\n",
      "12/12 [==============================] - 0s 7ms/step - loss: 0.3604 - accuracy: 0.8898 - val_loss: 0.3643 - val_accuracy: 0.8670\n",
      "Epoch 11/100\n",
      "12/12 [==============================] - 0s 7ms/step - loss: 0.3412 - accuracy: 0.8976 - val_loss: 0.3483 - val_accuracy: 0.8777\n",
      "Epoch 12/100\n",
      "12/12 [==============================] - 0s 7ms/step - loss: 0.3240 - accuracy: 0.9081 - val_loss: 0.3339 - val_accuracy: 0.8936\n",
      "Epoch 13/100\n",
      "12/12 [==============================] - 0s 8ms/step - loss: 0.3086 - accuracy: 0.9186 - val_loss: 0.3211 - val_accuracy: 0.8936\n",
      "Epoch 14/100\n",
      "12/12 [==============================] - 0s 8ms/step - loss: 0.2950 - accuracy: 0.9239 - val_loss: 0.3095 - val_accuracy: 0.9043\n",
      "Epoch 15/100\n",
      "12/12 [==============================] - 0s 7ms/step - loss: 0.2827 - accuracy: 0.9265 - val_loss: 0.2987 - val_accuracy: 0.9096\n",
      "Epoch 16/100\n",
      "12/12 [==============================] - 0s 7ms/step - loss: 0.2713 - accuracy: 0.9291 - val_loss: 0.2889 - val_accuracy: 0.9149\n",
      "Epoch 17/100\n",
      "12/12 [==============================] - 0s 7ms/step - loss: 0.2610 - accuracy: 0.9370 - val_loss: 0.2800 - val_accuracy: 0.9149\n",
      "Epoch 18/100\n",
      "12/12 [==============================] - 0s 7ms/step - loss: 0.2516 - accuracy: 0.9370 - val_loss: 0.2719 - val_accuracy: 0.9202\n",
      "Epoch 19/100\n",
      "12/12 [==============================] - 0s 7ms/step - loss: 0.2432 - accuracy: 0.9344 - val_loss: 0.2641 - val_accuracy: 0.9202\n",
      "Epoch 20/100\n",
      "12/12 [==============================] - 0s 7ms/step - loss: 0.2349 - accuracy: 0.9370 - val_loss: 0.2572 - val_accuracy: 0.9202\n",
      "Epoch 21/100\n",
      "12/12 [==============================] - 0s 7ms/step - loss: 0.2277 - accuracy: 0.9396 - val_loss: 0.2507 - val_accuracy: 0.9202\n",
      "Epoch 22/100\n",
      "12/12 [==============================] - 0s 7ms/step - loss: 0.2208 - accuracy: 0.9449 - val_loss: 0.2445 - val_accuracy: 0.9202\n",
      "Epoch 23/100\n",
      "12/12 [==============================] - 0s 7ms/step - loss: 0.2145 - accuracy: 0.9475 - val_loss: 0.2388 - val_accuracy: 0.9309\n",
      "Epoch 24/100\n",
      "12/12 [==============================] - 0s 7ms/step - loss: 0.2086 - accuracy: 0.9501 - val_loss: 0.2333 - val_accuracy: 0.9362\n",
      "Epoch 25/100\n",
      "12/12 [==============================] - 0s 8ms/step - loss: 0.2032 - accuracy: 0.9501 - val_loss: 0.2280 - val_accuracy: 0.9362\n",
      "Epoch 26/100\n",
      "12/12 [==============================] - 0s 7ms/step - loss: 0.1979 - accuracy: 0.9528 - val_loss: 0.2232 - val_accuracy: 0.9415\n",
      "Epoch 27/100\n",
      "12/12 [==============================] - 0s 7ms/step - loss: 0.1931 - accuracy: 0.9528 - val_loss: 0.2186 - val_accuracy: 0.9415\n",
      "Epoch 28/100\n",
      "12/12 [==============================] - 0s 6ms/step - loss: 0.1884 - accuracy: 0.9554 - val_loss: 0.2142 - val_accuracy: 0.9468\n",
      "Epoch 29/100\n",
      "12/12 [==============================] - 0s 7ms/step - loss: 0.1841 - accuracy: 0.9554 - val_loss: 0.2104 - val_accuracy: 0.9468\n",
      "Epoch 30/100\n",
      "12/12 [==============================] - 0s 7ms/step - loss: 0.1802 - accuracy: 0.9528 - val_loss: 0.2064 - val_accuracy: 0.9468\n",
      "Epoch 31/100\n",
      "12/12 [==============================] - 0s 8ms/step - loss: 0.1762 - accuracy: 0.9528 - val_loss: 0.2028 - val_accuracy: 0.9468\n",
      "Epoch 32/100\n",
      "12/12 [==============================] - 0s 7ms/step - loss: 0.1728 - accuracy: 0.9528 - val_loss: 0.1991 - val_accuracy: 0.9468\n",
      "Epoch 33/100\n",
      "12/12 [==============================] - 0s 7ms/step - loss: 0.1692 - accuracy: 0.9554 - val_loss: 0.1958 - val_accuracy: 0.9468\n",
      "Epoch 34/100\n",
      "12/12 [==============================] - 0s 7ms/step - loss: 0.1660 - accuracy: 0.9554 - val_loss: 0.1926 - val_accuracy: 0.9468\n",
      "Epoch 35/100\n",
      "12/12 [==============================] - 0s 6ms/step - loss: 0.1629 - accuracy: 0.9554 - val_loss: 0.1895 - val_accuracy: 0.9468\n",
      "Epoch 36/100\n",
      "12/12 [==============================] - 0s 6ms/step - loss: 0.1600 - accuracy: 0.9580 - val_loss: 0.1867 - val_accuracy: 0.9468\n",
      "Epoch 37/100\n",
      "12/12 [==============================] - 0s 6ms/step - loss: 0.1572 - accuracy: 0.9580 - val_loss: 0.1838 - val_accuracy: 0.9468\n",
      "Epoch 38/100\n",
      "12/12 [==============================] - 0s 7ms/step - loss: 0.1545 - accuracy: 0.9580 - val_loss: 0.1811 - val_accuracy: 0.9468\n",
      "Epoch 39/100\n",
      "12/12 [==============================] - 0s 7ms/step - loss: 0.1519 - accuracy: 0.9606 - val_loss: 0.1787 - val_accuracy: 0.9468\n",
      "Epoch 40/100\n",
      "12/12 [==============================] - 0s 8ms/step - loss: 0.1496 - accuracy: 0.9606 - val_loss: 0.1763 - val_accuracy: 0.9468\n",
      "Epoch 41/100\n",
      "12/12 [==============================] - 0s 7ms/step - loss: 0.1474 - accuracy: 0.9606 - val_loss: 0.1738 - val_accuracy: 0.9468\n",
      "Epoch 42/100\n",
      "12/12 [==============================] - 0s 7ms/step - loss: 0.1450 - accuracy: 0.9633 - val_loss: 0.1717 - val_accuracy: 0.9468\n",
      "Epoch 43/100\n",
      "12/12 [==============================] - 0s 7ms/step - loss: 0.1430 - accuracy: 0.9633 - val_loss: 0.1694 - val_accuracy: 0.9521\n",
      "Epoch 44/100\n",
      "12/12 [==============================] - 0s 7ms/step - loss: 0.1409 - accuracy: 0.9659 - val_loss: 0.1674 - val_accuracy: 0.9521\n",
      "Epoch 45/100\n",
      "12/12 [==============================] - 0s 7ms/step - loss: 0.1390 - accuracy: 0.9659 - val_loss: 0.1654 - val_accuracy: 0.9521\n",
      "Epoch 46/100\n",
      "12/12 [==============================] - 0s 7ms/step - loss: 0.1371 - accuracy: 0.9659 - val_loss: 0.1635 - val_accuracy: 0.9521\n",
      "Epoch 47/100\n",
      "12/12 [==============================] - 0s 6ms/step - loss: 0.1353 - accuracy: 0.9685 - val_loss: 0.1617 - val_accuracy: 0.9574\n",
      "Epoch 48/100\n",
      "12/12 [==============================] - 0s 7ms/step - loss: 0.1336 - accuracy: 0.9711 - val_loss: 0.1599 - val_accuracy: 0.9574\n",
      "Epoch 49/100\n",
      "12/12 [==============================] - 0s 7ms/step - loss: 0.1320 - accuracy: 0.9711 - val_loss: 0.1580 - val_accuracy: 0.9574\n",
      "Epoch 50/100\n",
      "12/12 [==============================] - 0s 6ms/step - loss: 0.1303 - accuracy: 0.9711 - val_loss: 0.1564 - val_accuracy: 0.9574\n",
      "Epoch 51/100\n",
      "12/12 [==============================] - 0s 7ms/step - loss: 0.1289 - accuracy: 0.9711 - val_loss: 0.1548 - val_accuracy: 0.9574\n",
      "Epoch 52/100\n",
      "12/12 [==============================] - 0s 7ms/step - loss: 0.1274 - accuracy: 0.9738 - val_loss: 0.1532 - val_accuracy: 0.9574\n",
      "Epoch 53/100\n",
      "12/12 [==============================] - 0s 7ms/step - loss: 0.1259 - accuracy: 0.9738 - val_loss: 0.1518 - val_accuracy: 0.9574\n",
      "Epoch 54/100\n",
      "12/12 [==============================] - 0s 7ms/step - loss: 0.1246 - accuracy: 0.9738 - val_loss: 0.1503 - val_accuracy: 0.9574\n",
      "Epoch 55/100\n",
      "12/12 [==============================] - 0s 7ms/step - loss: 0.1233 - accuracy: 0.9738 - val_loss: 0.1488 - val_accuracy: 0.9574\n",
      "Epoch 56/100\n",
      "12/12 [==============================] - 0s 7ms/step - loss: 0.1219 - accuracy: 0.9738 - val_loss: 0.1475 - val_accuracy: 0.9574\n",
      "Epoch 57/100\n",
      "12/12 [==============================] - 0s 7ms/step - loss: 0.1207 - accuracy: 0.9738 - val_loss: 0.1462 - val_accuracy: 0.9574\n",
      "Epoch 58/100\n",
      "12/12 [==============================] - 0s 7ms/step - loss: 0.1195 - accuracy: 0.9738 - val_loss: 0.1449 - val_accuracy: 0.9574\n"
     ]
    },
    {
     "name": "stdout",
     "output_type": "stream",
     "text": [
      "Epoch 59/100\n",
      "12/12 [==============================] - 0s 7ms/step - loss: 0.1183 - accuracy: 0.9738 - val_loss: 0.1437 - val_accuracy: 0.9574\n",
      "Epoch 60/100\n",
      "12/12 [==============================] - 0s 7ms/step - loss: 0.1172 - accuracy: 0.9738 - val_loss: 0.1425 - val_accuracy: 0.9574\n",
      "Epoch 61/100\n",
      "12/12 [==============================] - 0s 7ms/step - loss: 0.1161 - accuracy: 0.9738 - val_loss: 0.1413 - val_accuracy: 0.9574\n",
      "Epoch 62/100\n",
      "12/12 [==============================] - 0s 7ms/step - loss: 0.1150 - accuracy: 0.9738 - val_loss: 0.1401 - val_accuracy: 0.9574\n",
      "Epoch 63/100\n",
      "12/12 [==============================] - 0s 7ms/step - loss: 0.1140 - accuracy: 0.9738 - val_loss: 0.1390 - val_accuracy: 0.9574\n",
      "Epoch 64/100\n",
      "12/12 [==============================] - 0s 7ms/step - loss: 0.1130 - accuracy: 0.9738 - val_loss: 0.1380 - val_accuracy: 0.9574\n",
      "Epoch 65/100\n",
      "12/12 [==============================] - 0s 7ms/step - loss: 0.1121 - accuracy: 0.9738 - val_loss: 0.1369 - val_accuracy: 0.9628\n",
      "Epoch 66/100\n",
      "12/12 [==============================] - 0s 7ms/step - loss: 0.1111 - accuracy: 0.9738 - val_loss: 0.1359 - val_accuracy: 0.9628\n",
      "Epoch 67/100\n",
      "12/12 [==============================] - 0s 7ms/step - loss: 0.1102 - accuracy: 0.9738 - val_loss: 0.1349 - val_accuracy: 0.9628\n",
      "Epoch 68/100\n",
      "12/12 [==============================] - 0s 7ms/step - loss: 0.1093 - accuracy: 0.9738 - val_loss: 0.1339 - val_accuracy: 0.9681\n",
      "Epoch 69/100\n",
      "12/12 [==============================] - 0s 6ms/step - loss: 0.1084 - accuracy: 0.9738 - val_loss: 0.1330 - val_accuracy: 0.9681\n",
      "Epoch 70/100\n",
      "12/12 [==============================] - 0s 7ms/step - loss: 0.1076 - accuracy: 0.9738 - val_loss: 0.1321 - val_accuracy: 0.9681\n",
      "Epoch 71/100\n",
      "12/12 [==============================] - 0s 6ms/step - loss: 0.1068 - accuracy: 0.9738 - val_loss: 0.1311 - val_accuracy: 0.9681\n",
      "Epoch 72/100\n",
      "12/12 [==============================] - 0s 7ms/step - loss: 0.1060 - accuracy: 0.9738 - val_loss: 0.1303 - val_accuracy: 0.9681\n",
      "Epoch 73/100\n",
      "12/12 [==============================] - 0s 7ms/step - loss: 0.1052 - accuracy: 0.9738 - val_loss: 0.1295 - val_accuracy: 0.9681\n",
      "Epoch 74/100\n",
      "12/12 [==============================] - 0s 7ms/step - loss: 0.1044 - accuracy: 0.9738 - val_loss: 0.1286 - val_accuracy: 0.9734\n",
      "Epoch 75/100\n",
      "12/12 [==============================] - 0s 7ms/step - loss: 0.1037 - accuracy: 0.9764 - val_loss: 0.1278 - val_accuracy: 0.9734\n",
      "Epoch 76/100\n",
      "12/12 [==============================] - 0s 7ms/step - loss: 0.1030 - accuracy: 0.9764 - val_loss: 0.1270 - val_accuracy: 0.9734\n",
      "Epoch 77/100\n",
      "12/12 [==============================] - 0s 7ms/step - loss: 0.1022 - accuracy: 0.9738 - val_loss: 0.1262 - val_accuracy: 0.9734\n",
      "Epoch 78/100\n",
      "12/12 [==============================] - 0s 7ms/step - loss: 0.1016 - accuracy: 0.9764 - val_loss: 0.1254 - val_accuracy: 0.9734\n",
      "Epoch 79/100\n",
      "12/12 [==============================] - 0s 6ms/step - loss: 0.1009 - accuracy: 0.9764 - val_loss: 0.1247 - val_accuracy: 0.9734\n",
      "Epoch 80/100\n",
      "12/12 [==============================] - 0s 7ms/step - loss: 0.1002 - accuracy: 0.9764 - val_loss: 0.1240 - val_accuracy: 0.9734\n",
      "Epoch 81/100\n",
      "12/12 [==============================] - 0s 7ms/step - loss: 0.0996 - accuracy: 0.9764 - val_loss: 0.1233 - val_accuracy: 0.9734\n",
      "Epoch 82/100\n",
      "12/12 [==============================] - 0s 7ms/step - loss: 0.0989 - accuracy: 0.9764 - val_loss: 0.1226 - val_accuracy: 0.9734\n",
      "Epoch 83/100\n",
      "12/12 [==============================] - 0s 7ms/step - loss: 0.0983 - accuracy: 0.9764 - val_loss: 0.1219 - val_accuracy: 0.9734\n",
      "Epoch 84/100\n",
      "12/12 [==============================] - 0s 7ms/step - loss: 0.0977 - accuracy: 0.9764 - val_loss: 0.1213 - val_accuracy: 0.9734\n",
      "Epoch 85/100\n",
      "12/12 [==============================] - 0s 7ms/step - loss: 0.0971 - accuracy: 0.9764 - val_loss: 0.1206 - val_accuracy: 0.9734\n",
      "Epoch 86/100\n",
      "12/12 [==============================] - 0s 6ms/step - loss: 0.0965 - accuracy: 0.9790 - val_loss: 0.1200 - val_accuracy: 0.9734\n",
      "Epoch 87/100\n",
      "12/12 [==============================] - 0s 7ms/step - loss: 0.0960 - accuracy: 0.9790 - val_loss: 0.1194 - val_accuracy: 0.9734\n",
      "Epoch 88/100\n",
      "12/12 [==============================] - 0s 7ms/step - loss: 0.0954 - accuracy: 0.9790 - val_loss: 0.1188 - val_accuracy: 0.9734\n",
      "Epoch 89/100\n",
      "12/12 [==============================] - 0s 7ms/step - loss: 0.0949 - accuracy: 0.9790 - val_loss: 0.1182 - val_accuracy: 0.9734\n",
      "Epoch 90/100\n",
      "12/12 [==============================] - 0s 6ms/step - loss: 0.0944 - accuracy: 0.9790 - val_loss: 0.1176 - val_accuracy: 0.9734\n",
      "Epoch 91/100\n",
      "12/12 [==============================] - 0s 7ms/step - loss: 0.0938 - accuracy: 0.9790 - val_loss: 0.1170 - val_accuracy: 0.9734\n",
      "Epoch 92/100\n",
      "12/12 [==============================] - 0s 7ms/step - loss: 0.0933 - accuracy: 0.9790 - val_loss: 0.1165 - val_accuracy: 0.9734\n",
      "Epoch 93/100\n",
      "12/12 [==============================] - 0s 7ms/step - loss: 0.0928 - accuracy: 0.9790 - val_loss: 0.1159 - val_accuracy: 0.9734\n",
      "Epoch 94/100\n",
      "12/12 [==============================] - 0s 10ms/step - loss: 0.0923 - accuracy: 0.9790 - val_loss: 0.1153 - val_accuracy: 0.9734\n",
      "Epoch 95/100\n",
      "12/12 [==============================] - 0s 8ms/step - loss: 0.0918 - accuracy: 0.9790 - val_loss: 0.1148 - val_accuracy: 0.9734\n",
      "Epoch 96/100\n",
      "12/12 [==============================] - 0s 7ms/step - loss: 0.0914 - accuracy: 0.9790 - val_loss: 0.1143 - val_accuracy: 0.9734\n",
      "Epoch 97/100\n",
      "12/12 [==============================] - 0s 7ms/step - loss: 0.0909 - accuracy: 0.9790 - val_loss: 0.1138 - val_accuracy: 0.9734\n",
      "Epoch 98/100\n",
      "12/12 [==============================] - 0s 7ms/step - loss: 0.0905 - accuracy: 0.9790 - val_loss: 0.1133 - val_accuracy: 0.9734\n",
      "Epoch 99/100\n",
      "12/12 [==============================] - 0s 7ms/step - loss: 0.0900 - accuracy: 0.9790 - val_loss: 0.1128 - val_accuracy: 0.9734\n",
      "Epoch 100/100\n",
      "12/12 [==============================] - 0s 7ms/step - loss: 0.0896 - accuracy: 0.9790 - val_loss: 0.1123 - val_accuracy: 0.9734\n"
     ]
    }
   ],
   "source": [
    "# Create and train model\n",
    "model = tf.keras.Sequential([\n",
    "    tf.keras.layers.Input(shape=(D,)),\n",
    "    tf.keras.layers.Dense(1, activation='sigmoid')\n",
    "])\n",
    "\n",
    "model.compile(optimizer='adam', loss='binary_crossentropy', metrics=['accuracy'])\n",
    "\n",
    "r = model.fit(X_train, Y_train, validation_data=(X_test, Y_test), epochs=100)"
   ]
  },
  {
   "cell_type": "code",
   "execution_count": 38,
   "id": "87365099",
   "metadata": {},
   "outputs": [
    {
     "data": {
      "text/plain": [
       "[<matplotlib.lines.Line2D at 0x297b43eb0>]"
      ]
     },
     "execution_count": 38,
     "metadata": {},
     "output_type": "execute_result"
    },
    {
     "data": {
      "image/png": "[encoded data removed]",
      "text/plain": [
       "<Figure size 640x480 with 1 Axes>"
      ]
     },
     "metadata": {},
     "output_type": "display_data"
    }
   ],
   "source": [
    "plt.plot(r.history['loss'], label='loss')\n",
    "plt.plot(r.history['val_loss'], label='val_loss')"
   ]
  },
  {
   "cell_type": "code",
   "execution_count": 39,
   "id": "b3c576e4",
   "metadata": {},
   "outputs": [
    {
     "data": {
      "text/plain": [
       "[<matplotlib.lines.Line2D at 0x297c33640>]"
      ]
     },
     "execution_count": 39,
     "metadata": {},
     "output_type": "execute_result"
    },
    {
     "data": {
      "image/png": "[encoded data removed]",
      "text/plain": [
       "<Figure size 640x480 with 1 Axes>"
      ]
     },
     "metadata": {},
     "output_type": "display_data"
    }
   ],
   "source": [
    "plt.plot(r.history['accuracy'], label='accuracy')\n",
    "plt.plot(r.history['val_accuracy'], label='val_accuracy')"
   ]
  },
  {
   "cell_type": "code",
   "execution_count": null,
   "id": "e92dfd81",
   "metadata": {},
   "outputs": [],
   "source": []
  }
 ],
 "metadata": {
  "kernelspec": {
   "display_name": "Python 3 (ipykernel)",
   "language": "python",
   "name": "python3"
  },
  "language_info": {
   "codemirror_mode": {
    "name": "ipython",
    "version": 3
   },
   "file_extension": ".py",
   "mimetype": "text/x-python",
   "name": "python",
   "nbconvert_exporter": "python",
   "pygments_lexer": "ipython3",
   "version": "3.8.13"
  }
 },
 "nbformat": 4,
 "nbformat_minor": 5
}
