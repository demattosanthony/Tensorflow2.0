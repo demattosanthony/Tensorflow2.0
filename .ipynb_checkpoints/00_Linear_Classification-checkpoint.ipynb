{
 "cells": [
  {
   "cell_type": "markdown",
   "id": "b7104447",
   "metadata": {},
   "source": [
    "## Simple Linear Classification Model: Input Layer and Activation (Output) Layer\n",
    "\n",
    "1. Load Breast Cancer Data\n",
    "2. Learn the data\n",
    "3. Split into train and test\n",
    "4. Normalize Data\n",
    "5. Build the model\n",
    "6. Train the model\n",
    "7. Plot loss and accuracy"
   ]
  },
  {
   "cell_type": "code",
   "execution_count": 18,
   "id": "360b7d53",
   "metadata": {},
   "outputs": [],
   "source": [
    "import tensorflow as tf \n",
    "from sklearn.datasets import load_breast_cancer\n",
    "from sklearn.model_selection import train_test_split\n",
    "from sklearn.preprocessing import StandardScaler\n",
    "import matplotlib.pyplot as plt\n",
    "import numpy as np"
   ]
  },
  {
   "cell_type": "code",
   "execution_count": 3,
   "id": "dc2a0a15",
   "metadata": {},
   "outputs": [
    {
     "data": {
      "text/plain": [
       "[PhysicalDevice(name='/physical_device:GPU:0', device_type='GPU')]"
      ]
     },
     "execution_count": 3,
     "metadata": {},
     "output_type": "execute_result"
    }
   ],
   "source": [
    "tf.config.list_physical_devices('GPU')"
   ]
  },
  {
   "cell_type": "code",
   "execution_count": 4,
   "id": "f96a4950",
   "metadata": {},
   "outputs": [],
   "source": [
    "data = load_breast_cancer()"
   ]
  },
  {
   "cell_type": "code",
   "execution_count": 5,
   "id": "a8e2b5e0",
   "metadata": {},
   "outputs": [
    {
     "data": {
      "text/plain": [
       "sklearn.utils._bunch.Bunch"
      ]
     },
     "execution_count": 5,
     "metadata": {},
     "output_type": "execute_result"
    }
   ],
   "source": [
    "type(data)"
   ]
  },
  {
   "cell_type": "code",
   "execution_count": 6,
   "id": "f1519455",
   "metadata": {},
   "outputs": [
    {
     "data": {
      "text/plain": [
       "dict_keys(['data', 'target', 'frame', 'target_names', 'DESCR', 'feature_names', 'filename', 'data_module'])"
      ]
     },
     "execution_count": 6,
     "metadata": {},
     "output_type": "execute_result"
    }
   ],
   "source": [
    "data.keys()"
   ]
  },
  {
   "cell_type": "code",
   "execution_count": 7,
   "id": "396ad5fe",
   "metadata": {},
   "outputs": [
    {
     "data": {
      "text/plain": [
       "(569, 30)"
      ]
     },
     "execution_count": 7,
     "metadata": {},
     "output_type": "execute_result"
    }
   ],
   "source": [
    "data.data.shape \n",
    "# samples, features"
   ]
  },
  {
   "cell_type": "code",
   "execution_count": 8,
   "id": "41e7a4e1",
   "metadata": {},
   "outputs": [
    {
     "data": {
      "text/plain": [
       "array([0, 0, 0, 0, 0, 0, 0, 0, 0, 0, 0, 0, 0, 0, 0, 0, 0, 0, 0, 1, 1, 1,\n",
       "       0, 0, 0, 0, 0, 0, 0, 0, 0, 0, 0, 0, 0, 0, 0, 1, 0, 0, 0, 0, 0, 0,\n",
       "       0, 0, 1, 0, 1, 1, 1, 1, 1, 0, 0, 1, 0, 0, 1, 1, 1, 1, 0, 1, 0, 0,\n",
       "       1, 1, 1, 1, 0, 1, 0, 0, 1, 0, 1, 0, 0, 1, 1, 1, 0, 0, 1, 0, 0, 0,\n",
       "       1, 1, 1, 0, 1, 1, 0, 0, 1, 1, 1, 0, 0, 1, 1, 1, 1, 0, 1, 1, 0, 1,\n",
       "       1, 1, 1, 1, 1, 1, 1, 0, 0, 0, 1, 0, 0, 1, 1, 1, 0, 0, 1, 0, 1, 0,\n",
       "       0, 1, 0, 0, 1, 1, 0, 1, 1, 0, 1, 1, 1, 1, 0, 1, 1, 1, 1, 1, 1, 1,\n",
       "       1, 1, 0, 1, 1, 1, 1, 0, 0, 1, 0, 1, 1, 0, 0, 1, 1, 0, 0, 1, 1, 1,\n",
       "       1, 0, 1, 1, 0, 0, 0, 1, 0, 1, 0, 1, 1, 1, 0, 1, 1, 0, 0, 1, 0, 0,\n",
       "       0, 0, 1, 0, 0, 0, 1, 0, 1, 0, 1, 1, 0, 1, 0, 0, 0, 0, 1, 1, 0, 0,\n",
       "       1, 1, 1, 0, 1, 1, 1, 1, 1, 0, 0, 1, 1, 0, 1, 1, 0, 0, 1, 0, 1, 1,\n",
       "       1, 1, 0, 1, 1, 1, 1, 1, 0, 1, 0, 0, 0, 0, 0, 0, 0, 0, 0, 0, 0, 0,\n",
       "       0, 0, 1, 1, 1, 1, 1, 1, 0, 1, 0, 1, 1, 0, 1, 1, 0, 1, 0, 0, 1, 1,\n",
       "       1, 1, 1, 1, 1, 1, 1, 1, 1, 1, 1, 0, 1, 1, 0, 1, 0, 1, 1, 1, 1, 1,\n",
       "       1, 1, 1, 1, 1, 1, 1, 1, 1, 0, 1, 1, 1, 0, 1, 0, 1, 1, 1, 1, 0, 0,\n",
       "       0, 1, 1, 1, 1, 0, 1, 0, 1, 0, 1, 1, 1, 0, 1, 1, 1, 1, 1, 1, 1, 0,\n",
       "       0, 0, 1, 1, 1, 1, 1, 1, 1, 1, 1, 1, 1, 0, 0, 1, 0, 0, 0, 1, 0, 0,\n",
       "       1, 1, 1, 1, 1, 0, 1, 1, 1, 1, 1, 0, 1, 1, 1, 0, 1, 1, 0, 0, 1, 1,\n",
       "       1, 1, 1, 1, 0, 1, 1, 1, 1, 1, 1, 1, 0, 1, 1, 1, 1, 1, 0, 1, 1, 0,\n",
       "       1, 1, 1, 1, 1, 1, 1, 1, 1, 1, 1, 1, 0, 1, 0, 0, 1, 0, 1, 1, 1, 1,\n",
       "       1, 0, 1, 1, 0, 1, 0, 1, 1, 0, 1, 0, 1, 1, 1, 1, 1, 1, 1, 1, 0, 0,\n",
       "       1, 1, 1, 1, 1, 1, 0, 1, 1, 1, 1, 1, 1, 1, 1, 1, 1, 0, 1, 1, 1, 1,\n",
       "       1, 1, 1, 0, 1, 0, 1, 1, 0, 1, 1, 1, 1, 1, 0, 0, 1, 0, 1, 0, 1, 1,\n",
       "       1, 1, 1, 0, 1, 1, 0, 1, 0, 1, 0, 0, 1, 1, 1, 0, 1, 1, 1, 1, 1, 1,\n",
       "       1, 1, 1, 1, 1, 0, 1, 0, 0, 1, 1, 1, 1, 1, 1, 1, 1, 1, 1, 1, 1, 1,\n",
       "       1, 1, 1, 1, 1, 1, 1, 1, 1, 1, 1, 1, 0, 0, 0, 0, 0, 0, 1])"
      ]
     },
     "execution_count": 8,
     "metadata": {},
     "output_type": "execute_result"
    }
   ],
   "source": [
    "data.target"
   ]
  },
  {
   "cell_type": "code",
   "execution_count": 9,
   "id": "b7a1aba0",
   "metadata": {},
   "outputs": [
    {
     "data": {
      "text/plain": [
       "array(['malignant', 'benign'], dtype='<U9')"
      ]
     },
     "execution_count": 9,
     "metadata": {},
     "output_type": "execute_result"
    }
   ],
   "source": [
    "data.target_names"
   ]
  },
  {
   "cell_type": "code",
   "execution_count": 10,
   "id": "beffdb94",
   "metadata": {},
   "outputs": [],
   "source": [
    "# Split data sets\n",
    "X_train, X_test, Y_train, Y_test = train_test_split(data.data, data.target, test_size=0.33)\n",
    "N, D = X_train.shape"
   ]
  },
  {
   "cell_type": "code",
   "execution_count": 11,
   "id": "50c58674",
   "metadata": {},
   "outputs": [
    {
     "data": {
      "text/plain": [
       "((381, 30), (188, 30), (381,), (188,))"
      ]
     },
     "execution_count": 11,
     "metadata": {},
     "output_type": "execute_result"
    }
   ],
   "source": [
    "X_train.shape, X_test.shape, Y_train.shape, Y_test.shape"
   ]
  },
  {
   "cell_type": "code",
   "execution_count": 12,
   "id": "559bcf8f",
   "metadata": {},
   "outputs": [],
   "source": [
    "# Normalize data\n",
    "scalar = StandardScaler()\n",
    "X_train = scalar.fit_transform(X_train)\n",
    "X_test = scalar.transform(X_test)"
   ]
  },
  {
   "cell_type": "code",
   "execution_count": 13,
   "id": "3b898e47",
   "metadata": {},
   "outputs": [
    {
     "name": "stdout",
     "output_type": "stream",
     "text": [
      "Metal device set to: Apple M1 Pro\n",
      "Epoch 1/100\n"
     ]
    },
    {
     "name": "stderr",
     "output_type": "stream",
     "text": [
      "2022-09-08 19:42:29.258183: I tensorflow/core/common_runtime/pluggable_device/pluggable_device_factory.cc:305] Could not identify NUMA node of platform GPU ID 0, defaulting to 0. Your kernel may not have been built with NUMA support.\n",
      "2022-09-08 19:42:29.258676: I tensorflow/core/common_runtime/pluggable_device/pluggable_device_factory.cc:271] Created TensorFlow device (/job:localhost/replica:0/task:0/device:GPU:0 with 0 MB memory) -> physical PluggableDevice (device: 0, name: METAL, pci bus id: <undefined>)\n",
      "2022-09-08 19:42:29.355637: W tensorflow/core/platform/profile_utils/cpu_utils.cc:128] Failed to get CPU frequency: 0 Hz\n"
     ]
    },
    {
     "name": "stdout",
     "output_type": "stream",
     "text": [
      "12/12 [==============================] - ETA: 0s - loss: 0.5422 - accuracy: 0.7664"
     ]
    },
    {
     "name": "stderr",
     "output_type": "stream",
     "text": [
      "2022-09-08 19:42:29.587083: I tensorflow/core/grappler/optimizers/custom_graph_optimizer_registry.cc:113] Plugin optimizer for device_type GPU is enabled.\n"
     ]
    },
    {
     "name": "stdout",
     "output_type": "stream",
     "text": [
      "12/12 [==============================] - 1s 19ms/step - loss: 0.5422 - accuracy: 0.7664 - val_loss: 0.4245 - val_accuracy: 0.7926\n",
      "Epoch 2/100\n",
      "12/12 [==============================] - 0s 7ms/step - loss: 0.5015 - accuracy: 0.7848 - val_loss: 0.3923 - val_accuracy: 0.8351\n",
      "Epoch 3/100\n",
      " 1/12 [=>............................] - ETA: 0s - loss: 0.4454 - accuracy: 0.8125"
     ]
    },
    {
     "name": "stderr",
     "output_type": "stream",
     "text": [
      "2022-09-08 19:42:29.846181: I tensorflow/core/grappler/optimizers/custom_graph_optimizer_registry.cc:113] Plugin optimizer for device_type GPU is enabled.\n"
     ]
    },
    {
     "name": "stdout",
     "output_type": "stream",
     "text": [
      "12/12 [==============================] - 0s 6ms/step - loss: 0.4652 - accuracy: 0.8084 - val_loss: 0.3644 - val_accuracy: 0.8457\n",
      "Epoch 4/100\n",
      "12/12 [==============================] - 0s 7ms/step - loss: 0.4333 - accuracy: 0.8215 - val_loss: 0.3407 - val_accuracy: 0.8617\n",
      "Epoch 5/100\n",
      "12/12 [==============================] - 0s 7ms/step - loss: 0.4057 - accuracy: 0.8320 - val_loss: 0.3202 - val_accuracy: 0.8830\n",
      "Epoch 6/100\n",
      "12/12 [==============================] - 0s 7ms/step - loss: 0.3807 - accuracy: 0.8530 - val_loss: 0.3025 - val_accuracy: 0.8936\n",
      "Epoch 7/100\n",
      "12/12 [==============================] - 0s 7ms/step - loss: 0.3593 - accuracy: 0.8635 - val_loss: 0.2870 - val_accuracy: 0.9096\n",
      "Epoch 8/100\n",
      "12/12 [==============================] - 0s 7ms/step - loss: 0.3400 - accuracy: 0.8661 - val_loss: 0.2730 - val_accuracy: 0.9202\n",
      "Epoch 9/100\n",
      "12/12 [==============================] - 0s 7ms/step - loss: 0.3217 - accuracy: 0.8714 - val_loss: 0.2610 - val_accuracy: 0.9255\n",
      "Epoch 10/100\n",
      "12/12 [==============================] - 0s 7ms/step - loss: 0.3067 - accuracy: 0.8950 - val_loss: 0.2500 - val_accuracy: 0.9415\n",
      "Epoch 11/100\n",
      "12/12 [==============================] - 0s 7ms/step - loss: 0.2920 - accuracy: 0.9003 - val_loss: 0.2403 - val_accuracy: 0.9468\n",
      "Epoch 12/100\n",
      "12/12 [==============================] - 0s 7ms/step - loss: 0.2789 - accuracy: 0.9081 - val_loss: 0.2315 - val_accuracy: 0.9574\n",
      "Epoch 13/100\n",
      "12/12 [==============================] - 0s 7ms/step - loss: 0.2677 - accuracy: 0.9186 - val_loss: 0.2233 - val_accuracy: 0.9574\n",
      "Epoch 14/100\n",
      "12/12 [==============================] - 0s 7ms/step - loss: 0.2564 - accuracy: 0.9186 - val_loss: 0.2160 - val_accuracy: 0.9574\n",
      "Epoch 15/100\n",
      "12/12 [==============================] - 0s 7ms/step - loss: 0.2465 - accuracy: 0.9186 - val_loss: 0.2094 - val_accuracy: 0.9574\n",
      "Epoch 16/100\n",
      "12/12 [==============================] - 0s 6ms/step - loss: 0.2373 - accuracy: 0.9239 - val_loss: 0.2033 - val_accuracy: 0.9628\n",
      "Epoch 17/100\n",
      "12/12 [==============================] - 0s 7ms/step - loss: 0.2290 - accuracy: 0.9291 - val_loss: 0.1977 - val_accuracy: 0.9628\n",
      "Epoch 18/100\n",
      "12/12 [==============================] - 0s 6ms/step - loss: 0.2214 - accuracy: 0.9318 - val_loss: 0.1925 - val_accuracy: 0.9628\n",
      "Epoch 19/100\n",
      "12/12 [==============================] - 0s 6ms/step - loss: 0.2140 - accuracy: 0.9370 - val_loss: 0.1877 - val_accuracy: 0.9628\n",
      "Epoch 20/100\n",
      "12/12 [==============================] - 0s 6ms/step - loss: 0.2072 - accuracy: 0.9396 - val_loss: 0.1833 - val_accuracy: 0.9681\n",
      "Epoch 21/100\n",
      "12/12 [==============================] - 0s 6ms/step - loss: 0.2011 - accuracy: 0.9449 - val_loss: 0.1791 - val_accuracy: 0.9681\n",
      "Epoch 22/100\n",
      "12/12 [==============================] - 0s 7ms/step - loss: 0.1953 - accuracy: 0.9475 - val_loss: 0.1753 - val_accuracy: 0.9681\n",
      "Epoch 23/100\n",
      "12/12 [==============================] - 0s 6ms/step - loss: 0.1899 - accuracy: 0.9475 - val_loss: 0.1716 - val_accuracy: 0.9681\n",
      "Epoch 24/100\n",
      "12/12 [==============================] - 0s 6ms/step - loss: 0.1849 - accuracy: 0.9501 - val_loss: 0.1682 - val_accuracy: 0.9734\n",
      "Epoch 25/100\n",
      "12/12 [==============================] - 0s 6ms/step - loss: 0.1798 - accuracy: 0.9501 - val_loss: 0.1650 - val_accuracy: 0.9734\n",
      "Epoch 26/100\n",
      "12/12 [==============================] - 0s 6ms/step - loss: 0.1756 - accuracy: 0.9501 - val_loss: 0.1621 - val_accuracy: 0.9734\n",
      "Epoch 27/100\n",
      "12/12 [==============================] - 0s 6ms/step - loss: 0.1716 - accuracy: 0.9554 - val_loss: 0.1592 - val_accuracy: 0.9734\n",
      "Epoch 28/100\n",
      "12/12 [==============================] - 0s 6ms/step - loss: 0.1674 - accuracy: 0.9633 - val_loss: 0.1566 - val_accuracy: 0.9734\n",
      "Epoch 29/100\n",
      "12/12 [==============================] - 0s 6ms/step - loss: 0.1639 - accuracy: 0.9633 - val_loss: 0.1540 - val_accuracy: 0.9787\n",
      "Epoch 30/100\n",
      "12/12 [==============================] - 0s 6ms/step - loss: 0.1603 - accuracy: 0.9659 - val_loss: 0.1516 - val_accuracy: 0.9787\n",
      "Epoch 31/100\n",
      "12/12 [==============================] - 0s 6ms/step - loss: 0.1572 - accuracy: 0.9685 - val_loss: 0.1494 - val_accuracy: 0.9894\n",
      "Epoch 32/100\n",
      "12/12 [==============================] - 0s 6ms/step - loss: 0.1539 - accuracy: 0.9711 - val_loss: 0.1472 - val_accuracy: 0.9894\n",
      "Epoch 33/100\n",
      "12/12 [==============================] - 0s 6ms/step - loss: 0.1511 - accuracy: 0.9711 - val_loss: 0.1452 - val_accuracy: 0.9894\n",
      "Epoch 34/100\n",
      "12/12 [==============================] - 0s 6ms/step - loss: 0.1482 - accuracy: 0.9738 - val_loss: 0.1433 - val_accuracy: 0.9894\n",
      "Epoch 35/100\n",
      "12/12 [==============================] - 0s 6ms/step - loss: 0.1456 - accuracy: 0.9738 - val_loss: 0.1414 - val_accuracy: 0.9894\n",
      "Epoch 36/100\n",
      "12/12 [==============================] - 0s 6ms/step - loss: 0.1432 - accuracy: 0.9738 - val_loss: 0.1397 - val_accuracy: 0.9894\n",
      "Epoch 37/100\n",
      "12/12 [==============================] - 0s 6ms/step - loss: 0.1406 - accuracy: 0.9738 - val_loss: 0.1380 - val_accuracy: 0.9894\n",
      "Epoch 38/100\n",
      "12/12 [==============================] - 0s 6ms/step - loss: 0.1384 - accuracy: 0.9738 - val_loss: 0.1365 - val_accuracy: 0.9894\n",
      "Epoch 39/100\n",
      "12/12 [==============================] - 0s 6ms/step - loss: 0.1362 - accuracy: 0.9738 - val_loss: 0.1349 - val_accuracy: 0.9894\n",
      "Epoch 40/100\n",
      "12/12 [==============================] - 0s 6ms/step - loss: 0.1340 - accuracy: 0.9711 - val_loss: 0.1335 - val_accuracy: 0.9894\n",
      "Epoch 41/100\n",
      "12/12 [==============================] - 0s 6ms/step - loss: 0.1321 - accuracy: 0.9711 - val_loss: 0.1322 - val_accuracy: 0.9894\n",
      "Epoch 42/100\n",
      "12/12 [==============================] - 0s 6ms/step - loss: 0.1301 - accuracy: 0.9711 - val_loss: 0.1309 - val_accuracy: 0.9894\n",
      "Epoch 43/100\n",
      "12/12 [==============================] - 0s 6ms/step - loss: 0.1283 - accuracy: 0.9711 - val_loss: 0.1295 - val_accuracy: 0.9894\n",
      "Epoch 44/100\n",
      "12/12 [==============================] - 0s 6ms/step - loss: 0.1266 - accuracy: 0.9738 - val_loss: 0.1283 - val_accuracy: 0.9894\n",
      "Epoch 45/100\n",
      "12/12 [==============================] - 0s 6ms/step - loss: 0.1249 - accuracy: 0.9738 - val_loss: 0.1271 - val_accuracy: 0.9894\n",
      "Epoch 46/100\n",
      "12/12 [==============================] - 0s 6ms/step - loss: 0.1233 - accuracy: 0.9738 - val_loss: 0.1260 - val_accuracy: 0.9894\n",
      "Epoch 47/100\n",
      "12/12 [==============================] - 0s 6ms/step - loss: 0.1217 - accuracy: 0.9738 - val_loss: 0.1249 - val_accuracy: 0.9894\n",
      "Epoch 48/100\n",
      "12/12 [==============================] - 0s 6ms/step - loss: 0.1202 - accuracy: 0.9738 - val_loss: 0.1240 - val_accuracy: 0.9894\n",
      "Epoch 49/100\n",
      "12/12 [==============================] - 0s 6ms/step - loss: 0.1188 - accuracy: 0.9738 - val_loss: 0.1230 - val_accuracy: 0.9894\n",
      "Epoch 50/100\n",
      "12/12 [==============================] - 0s 6ms/step - loss: 0.1174 - accuracy: 0.9738 - val_loss: 0.1220 - val_accuracy: 0.9894\n",
      "Epoch 51/100\n",
      "12/12 [==============================] - 0s 6ms/step - loss: 0.1160 - accuracy: 0.9738 - val_loss: 0.1211 - val_accuracy: 0.9894\n",
      "Epoch 52/100\n",
      "12/12 [==============================] - 0s 6ms/step - loss: 0.1147 - accuracy: 0.9738 - val_loss: 0.1202 - val_accuracy: 0.9894\n",
      "Epoch 53/100\n",
      "12/12 [==============================] - 0s 6ms/step - loss: 0.1135 - accuracy: 0.9738 - val_loss: 0.1193 - val_accuracy: 0.9894\n",
      "Epoch 54/100\n",
      "12/12 [==============================] - 0s 7ms/step - loss: 0.1123 - accuracy: 0.9738 - val_loss: 0.1185 - val_accuracy: 0.9894\n",
      "Epoch 55/100\n",
      "12/12 [==============================] - 0s 6ms/step - loss: 0.1111 - accuracy: 0.9738 - val_loss: 0.1177 - val_accuracy: 0.9894\n",
      "Epoch 56/100\n",
      "12/12 [==============================] - 0s 6ms/step - loss: 0.1100 - accuracy: 0.9738 - val_loss: 0.1169 - val_accuracy: 0.9894\n",
      "Epoch 57/100\n",
      "12/12 [==============================] - 0s 6ms/step - loss: 0.1089 - accuracy: 0.9738 - val_loss: 0.1161 - val_accuracy: 0.9894\n",
      "Epoch 58/100\n",
      "12/12 [==============================] - 0s 7ms/step - loss: 0.1079 - accuracy: 0.9738 - val_loss: 0.1155 - val_accuracy: 0.9894\n",
      "Epoch 59/100\n",
      "12/12 [==============================] - 0s 7ms/step - loss: 0.1067 - accuracy: 0.9738 - val_loss: 0.1147 - val_accuracy: 0.9894\n",
      "Epoch 60/100\n",
      "12/12 [==============================] - 0s 7ms/step - loss: 0.1058 - accuracy: 0.9738 - val_loss: 0.1140 - val_accuracy: 0.9894\n"
     ]
    },
    {
     "name": "stdout",
     "output_type": "stream",
     "text": [
      "Epoch 61/100\n",
      "12/12 [==============================] - 0s 6ms/step - loss: 0.1049 - accuracy: 0.9738 - val_loss: 0.1134 - val_accuracy: 0.9894\n",
      "Epoch 62/100\n",
      "12/12 [==============================] - 0s 7ms/step - loss: 0.1039 - accuracy: 0.9738 - val_loss: 0.1127 - val_accuracy: 0.9894\n",
      "Epoch 63/100\n",
      "12/12 [==============================] - 0s 7ms/step - loss: 0.1030 - accuracy: 0.9738 - val_loss: 0.1121 - val_accuracy: 0.9894\n",
      "Epoch 64/100\n",
      "12/12 [==============================] - 0s 6ms/step - loss: 0.1021 - accuracy: 0.9764 - val_loss: 0.1115 - val_accuracy: 0.9894\n",
      "Epoch 65/100\n",
      "12/12 [==============================] - 0s 6ms/step - loss: 0.1012 - accuracy: 0.9764 - val_loss: 0.1110 - val_accuracy: 0.9894\n",
      "Epoch 66/100\n",
      "12/12 [==============================] - 0s 6ms/step - loss: 0.1004 - accuracy: 0.9764 - val_loss: 0.1104 - val_accuracy: 0.9894\n",
      "Epoch 67/100\n",
      "12/12 [==============================] - 0s 8ms/step - loss: 0.0996 - accuracy: 0.9764 - val_loss: 0.1099 - val_accuracy: 0.9894\n",
      "Epoch 68/100\n",
      "12/12 [==============================] - 0s 6ms/step - loss: 0.0988 - accuracy: 0.9764 - val_loss: 0.1094 - val_accuracy: 0.9894\n",
      "Epoch 69/100\n",
      "12/12 [==============================] - 0s 6ms/step - loss: 0.0980 - accuracy: 0.9764 - val_loss: 0.1088 - val_accuracy: 0.9894\n",
      "Epoch 70/100\n",
      "12/12 [==============================] - 0s 6ms/step - loss: 0.0973 - accuracy: 0.9764 - val_loss: 0.1083 - val_accuracy: 0.9894\n",
      "Epoch 71/100\n",
      "12/12 [==============================] - 0s 6ms/step - loss: 0.0965 - accuracy: 0.9764 - val_loss: 0.1078 - val_accuracy: 0.9894\n",
      "Epoch 72/100\n",
      "12/12 [==============================] - 0s 6ms/step - loss: 0.0958 - accuracy: 0.9764 - val_loss: 0.1074 - val_accuracy: 0.9894\n",
      "Epoch 73/100\n",
      "12/12 [==============================] - 0s 6ms/step - loss: 0.0951 - accuracy: 0.9764 - val_loss: 0.1068 - val_accuracy: 0.9894\n",
      "Epoch 74/100\n",
      "12/12 [==============================] - 0s 6ms/step - loss: 0.0944 - accuracy: 0.9790 - val_loss: 0.1065 - val_accuracy: 0.9894\n",
      "Epoch 75/100\n",
      "12/12 [==============================] - 0s 6ms/step - loss: 0.0937 - accuracy: 0.9790 - val_loss: 0.1060 - val_accuracy: 0.9894\n",
      "Epoch 76/100\n",
      "12/12 [==============================] - 0s 6ms/step - loss: 0.0931 - accuracy: 0.9790 - val_loss: 0.1056 - val_accuracy: 0.9894\n",
      "Epoch 77/100\n",
      "12/12 [==============================] - 0s 6ms/step - loss: 0.0925 - accuracy: 0.9790 - val_loss: 0.1052 - val_accuracy: 0.9894\n",
      "Epoch 78/100\n",
      "12/12 [==============================] - 0s 6ms/step - loss: 0.0918 - accuracy: 0.9790 - val_loss: 0.1048 - val_accuracy: 0.9894\n",
      "Epoch 79/100\n",
      "12/12 [==============================] - 0s 6ms/step - loss: 0.0912 - accuracy: 0.9790 - val_loss: 0.1044 - val_accuracy: 0.9840\n",
      "Epoch 80/100\n",
      "12/12 [==============================] - 0s 7ms/step - loss: 0.0907 - accuracy: 0.9790 - val_loss: 0.1040 - val_accuracy: 0.9840\n",
      "Epoch 81/100\n",
      "12/12 [==============================] - 0s 6ms/step - loss: 0.0901 - accuracy: 0.9790 - val_loss: 0.1037 - val_accuracy: 0.9840\n",
      "Epoch 82/100\n",
      "12/12 [==============================] - 0s 6ms/step - loss: 0.0895 - accuracy: 0.9816 - val_loss: 0.1032 - val_accuracy: 0.9840\n",
      "Epoch 83/100\n",
      "12/12 [==============================] - 0s 6ms/step - loss: 0.0890 - accuracy: 0.9816 - val_loss: 0.1028 - val_accuracy: 0.9840\n",
      "Epoch 84/100\n",
      "12/12 [==============================] - 0s 6ms/step - loss: 0.0884 - accuracy: 0.9816 - val_loss: 0.1025 - val_accuracy: 0.9840\n",
      "Epoch 85/100\n",
      "12/12 [==============================] - 0s 6ms/step - loss: 0.0879 - accuracy: 0.9816 - val_loss: 0.1022 - val_accuracy: 0.9840\n",
      "Epoch 86/100\n",
      "12/12 [==============================] - 0s 6ms/step - loss: 0.0875 - accuracy: 0.9816 - val_loss: 0.1019 - val_accuracy: 0.9840\n",
      "Epoch 87/100\n",
      "12/12 [==============================] - 0s 6ms/step - loss: 0.0868 - accuracy: 0.9816 - val_loss: 0.1016 - val_accuracy: 0.9840\n",
      "Epoch 88/100\n",
      "12/12 [==============================] - 0s 6ms/step - loss: 0.0864 - accuracy: 0.9816 - val_loss: 0.1012 - val_accuracy: 0.9840\n",
      "Epoch 89/100\n",
      "12/12 [==============================] - 0s 7ms/step - loss: 0.0859 - accuracy: 0.9816 - val_loss: 0.1009 - val_accuracy: 0.9840\n",
      "Epoch 90/100\n",
      "12/12 [==============================] - 0s 6ms/step - loss: 0.0854 - accuracy: 0.9816 - val_loss: 0.1006 - val_accuracy: 0.9840\n",
      "Epoch 91/100\n",
      "12/12 [==============================] - 0s 6ms/step - loss: 0.0850 - accuracy: 0.9816 - val_loss: 0.1004 - val_accuracy: 0.9840\n",
      "Epoch 92/100\n",
      "12/12 [==============================] - 0s 6ms/step - loss: 0.0845 - accuracy: 0.9816 - val_loss: 0.1000 - val_accuracy: 0.9840\n",
      "Epoch 93/100\n",
      "12/12 [==============================] - 0s 6ms/step - loss: 0.0840 - accuracy: 0.9816 - val_loss: 0.0998 - val_accuracy: 0.9840\n",
      "Epoch 94/100\n",
      "12/12 [==============================] - 0s 6ms/step - loss: 0.0836 - accuracy: 0.9816 - val_loss: 0.0994 - val_accuracy: 0.9840\n",
      "Epoch 95/100\n",
      "12/12 [==============================] - 0s 6ms/step - loss: 0.0831 - accuracy: 0.9816 - val_loss: 0.0991 - val_accuracy: 0.9840\n",
      "Epoch 96/100\n",
      "12/12 [==============================] - 0s 6ms/step - loss: 0.0827 - accuracy: 0.9816 - val_loss: 0.0989 - val_accuracy: 0.9840\n",
      "Epoch 97/100\n",
      "12/12 [==============================] - 0s 6ms/step - loss: 0.0823 - accuracy: 0.9816 - val_loss: 0.0986 - val_accuracy: 0.9840\n",
      "Epoch 98/100\n",
      "12/12 [==============================] - 0s 6ms/step - loss: 0.0819 - accuracy: 0.9816 - val_loss: 0.0983 - val_accuracy: 0.9840\n",
      "Epoch 99/100\n",
      "12/12 [==============================] - 0s 6ms/step - loss: 0.0814 - accuracy: 0.9816 - val_loss: 0.0981 - val_accuracy: 0.9840\n",
      "Epoch 100/100\n",
      "12/12 [==============================] - 0s 6ms/step - loss: 0.0810 - accuracy: 0.9816 - val_loss: 0.0979 - val_accuracy: 0.9840\n"
     ]
    }
   ],
   "source": [
    "# Create and train model\n",
    "model = tf.keras.Sequential([\n",
    "    tf.keras.layers.Input(shape=(D,)),\n",
    "    tf.keras.layers.Dense(1, activation='sigmoid')\n",
    "])\n",
    "\n",
    "model.compile(optimizer='adam', loss='binary_crossentropy', metrics=['accuracy'])\n",
    "\n",
    "r = model.fit(X_train, Y_train, validation_data=(X_test, Y_test), epochs=100)"
   ]
  },
  {
   "cell_type": "code",
   "execution_count": 14,
   "id": "87365099",
   "metadata": {},
   "outputs": [
    {
     "data": {
      "text/plain": [
       "[<matplotlib.lines.Line2D at 0x29b5c01f0>]"
      ]
     },
     "execution_count": 14,
     "metadata": {},
     "output_type": "execute_result"
    },
    {
     "data": {
      "image/png": "[encoded data removed]",
      "text/plain": [
       "<Figure size 640x480 with 1 Axes>"
      ]
     },
     "metadata": {},
     "output_type": "display_data"
    }
   ],
   "source": [
    "plt.plot(r.history['loss'], label='loss')\n",
    "plt.plot(r.history['val_loss'], label='val_loss')"
   ]
  },
  {
   "cell_type": "code",
   "execution_count": 15,
   "id": "b3c576e4",
   "metadata": {},
   "outputs": [
    {
     "data": {
      "text/plain": [
       "[<matplotlib.lines.Line2D at 0x29b6a2520>]"
      ]
     },
     "execution_count": 15,
     "metadata": {},
     "output_type": "execute_result"
    },
    {
     "data": {
      "image/png": "[encoded data removed]",
      "text/plain": [
       "<Figure size 640x480 with 1 Axes>"
      ]
     },
     "metadata": {},
     "output_type": "display_data"
    }
   ],
   "source": [
    "plt.plot(r.history['accuracy'], label='accuracy')\n",
    "plt.plot(r.history['val_accuracy'], label='val_accuracy')"
   ]
  },
  {
   "cell_type": "markdown",
   "id": "7abe610a",
   "metadata": {},
   "source": [
    "## Part 2: Making Prections"
   ]
  },
  {
   "cell_type": "code",
   "execution_count": 22,
   "id": "3861970a",
   "metadata": {},
   "outputs": [
    {
     "name": "stdout",
     "output_type": "stream",
     "text": [
      "6/6 [==============================] - 0s 3ms/step\n"
     ]
    },
    {
     "data": {
      "text/plain": [
       "array([[9.95793939e-01],\n",
       "       [9.99819100e-01],\n",
       "       [9.98944104e-01],\n",
       "       [2.92801321e-01],\n",
       "       [1.96621870e-03],\n",
       "       [9.99844015e-01],\n",
       "       [9.98453975e-01],\n",
       "       [1.36109665e-01],\n",
       "       [9.81463850e-01],\n",
       "       [3.91339362e-02],\n",
       "       [4.36777592e-01],\n",
       "       [8.65148365e-01],\n",
       "       [9.94338095e-01],\n",
       "       [2.11722806e-01],\n",
       "       [9.97908354e-01],\n",
       "       [9.99825060e-01],\n",
       "       [8.91638696e-01],\n",
       "       [7.63623137e-03],\n",
       "       [8.83544505e-01],\n",
       "       [9.94065702e-01],\n",
       "       [9.99379933e-01],\n",
       "       [1.35327828e-05],\n",
       "       [3.11688222e-02],\n",
       "       [1.24756762e-05],\n",
       "       [9.69337642e-01],\n",
       "       [2.69080326e-02],\n",
       "       [9.71836507e-01],\n",
       "       [9.99649763e-01],\n",
       "       [8.34753215e-01],\n",
       "       [9.86713529e-01],\n",
       "       [9.25431311e-01],\n",
       "       [9.92308617e-01],\n",
       "       [9.96070623e-01],\n",
       "       [3.18816975e-02],\n",
       "       [1.22900613e-01],\n",
       "       [9.72745419e-01],\n",
       "       [9.60494995e-01],\n",
       "       [1.95176781e-08],\n",
       "       [1.37656898e-04],\n",
       "       [8.19339448e-07],\n",
       "       [1.65399797e-02],\n",
       "       [9.91027057e-01],\n",
       "       [9.95412648e-01],\n",
       "       [1.35429713e-04],\n",
       "       [9.86015975e-01],\n",
       "       [1.71780812e-06],\n",
       "       [9.66167271e-01],\n",
       "       [8.97538066e-01],\n",
       "       [9.69294071e-01],\n",
       "       [9.88636076e-01],\n",
       "       [9.90599930e-01],\n",
       "       [9.96121645e-01],\n",
       "       [8.70828107e-02],\n",
       "       [9.95149672e-01],\n",
       "       [8.75023842e-01],\n",
       "       [9.91417110e-01],\n",
       "       [9.99912620e-01],\n",
       "       [8.36740673e-01],\n",
       "       [9.99225974e-01],\n",
       "       [7.84602798e-06],\n",
       "       [5.99980578e-02],\n",
       "       [2.27986538e-06],\n",
       "       [9.93243754e-01],\n",
       "       [3.63946718e-04],\n",
       "       [9.91017938e-01],\n",
       "       [9.91879523e-01],\n",
       "       [9.86659288e-01],\n",
       "       [6.24494078e-06],\n",
       "       [9.90327060e-01],\n",
       "       [9.97810423e-01],\n",
       "       [9.98239279e-01],\n",
       "       [9.98558700e-01],\n",
       "       [9.72885728e-01],\n",
       "       [9.95625317e-01],\n",
       "       [9.99430299e-01],\n",
       "       [9.24590707e-01],\n",
       "       [9.91389215e-01],\n",
       "       [4.19225693e-02],\n",
       "       [5.89719594e-01],\n",
       "       [9.99631286e-01],\n",
       "       [3.68952863e-02],\n",
       "       [9.99046624e-01],\n",
       "       [9.99208510e-01],\n",
       "       [9.97930050e-01],\n",
       "       [9.63867366e-01],\n",
       "       [9.99821126e-01],\n",
       "       [4.68855411e-01],\n",
       "       [8.77317369e-01],\n",
       "       [1.12059630e-01],\n",
       "       [9.99552429e-01],\n",
       "       [6.95795536e-01],\n",
       "       [7.80838370e-01],\n",
       "       [1.99459255e-01],\n",
       "       [9.77446139e-01],\n",
       "       [9.17556942e-01],\n",
       "       [9.31460559e-01],\n",
       "       [9.92048919e-01],\n",
       "       [9.78030860e-01],\n",
       "       [2.93460478e-10],\n",
       "       [9.99997258e-01],\n",
       "       [9.92416263e-01],\n",
       "       [8.56122468e-03],\n",
       "       [2.53952444e-02],\n",
       "       [9.99764264e-01],\n",
       "       [9.96526659e-01],\n",
       "       [9.60817873e-01],\n",
       "       [9.68309104e-01],\n",
       "       [9.95570004e-01],\n",
       "       [9.59372461e-01],\n",
       "       [9.93144512e-01],\n",
       "       [8.54784071e-01],\n",
       "       [9.95046616e-01],\n",
       "       [9.75298643e-01],\n",
       "       [6.20925650e-02],\n",
       "       [7.82672092e-02],\n",
       "       [4.57807025e-03],\n",
       "       [9.55472171e-01],\n",
       "       [1.69097577e-04],\n",
       "       [8.94859016e-01],\n",
       "       [6.04415238e-01],\n",
       "       [9.03293549e-04],\n",
       "       [9.54392250e-04],\n",
       "       [1.96376187e-03],\n",
       "       [4.34226952e-02],\n",
       "       [9.58886325e-01],\n",
       "       [2.53180623e-01],\n",
       "       [9.99212086e-01],\n",
       "       [9.85172153e-01],\n",
       "       [9.93114412e-01],\n",
       "       [9.90356088e-01],\n",
       "       [7.52345443e-01],\n",
       "       [9.77194607e-01],\n",
       "       [9.99442995e-01],\n",
       "       [9.57796752e-01],\n",
       "       [9.63089615e-03],\n",
       "       [1.88136946e-05],\n",
       "       [9.71334430e-06],\n",
       "       [9.99968767e-01],\n",
       "       [9.93504703e-01],\n",
       "       [7.38434214e-03],\n",
       "       [9.99716103e-01],\n",
       "       [9.97196138e-01],\n",
       "       [3.48783314e-01],\n",
       "       [9.93404567e-01],\n",
       "       [9.91007507e-01],\n",
       "       [9.61158514e-01],\n",
       "       [9.77404237e-01],\n",
       "       [4.48817118e-05],\n",
       "       [2.09966849e-04],\n",
       "       [5.23956716e-01],\n",
       "       [9.92133319e-01],\n",
       "       [8.53986263e-01],\n",
       "       [9.69607115e-01],\n",
       "       [9.83037710e-01],\n",
       "       [2.70941257e-02],\n",
       "       [3.08691561e-01],\n",
       "       [9.96207833e-01],\n",
       "       [9.90784526e-01],\n",
       "       [9.20608521e-01],\n",
       "       [9.55738425e-01],\n",
       "       [9.80014205e-01],\n",
       "       [9.97872233e-01],\n",
       "       [2.70524947e-03],\n",
       "       [6.35420620e-01],\n",
       "       [9.91324544e-01],\n",
       "       [9.99584734e-01],\n",
       "       [9.89029527e-01],\n",
       "       [9.84623790e-01],\n",
       "       [4.85677645e-02],\n",
       "       [9.95387256e-01],\n",
       "       [1.01647966e-01],\n",
       "       [8.31754148e-01],\n",
       "       [7.60793149e-01],\n",
       "       [9.98116851e-01],\n",
       "       [9.41400826e-01],\n",
       "       [9.97631848e-01],\n",
       "       [5.82014536e-03],\n",
       "       [1.04404964e-01],\n",
       "       [8.87673438e-01],\n",
       "       [1.89915139e-04],\n",
       "       [9.99222755e-01],\n",
       "       [9.98387933e-01],\n",
       "       [8.51924896e-01],\n",
       "       [9.80271399e-01],\n",
       "       [6.35579795e-07],\n",
       "       [9.98269141e-01],\n",
       "       [6.70226753e-01],\n",
       "       [8.41842473e-01]], dtype=float32)"
      ]
     },
     "execution_count": 22,
     "metadata": {},
     "output_type": "execute_result"
    }
   ],
   "source": [
    "p = model.predict(X_test)\n",
    "p"
   ]
  },
  {
   "cell_type": "code",
   "execution_count": 25,
   "id": "baf1653f",
   "metadata": {},
   "outputs": [
    {
     "data": {
      "text/plain": [
       "array([1., 1., 1., 0., 0., 1., 1., 0., 1., 0., 0., 1., 1., 0., 1., 1., 1.,\n",
       "       0., 1., 1., 1., 0., 0., 0., 1., 0., 1., 1., 1., 1., 1., 1., 1., 0.,\n",
       "       0., 1., 1., 0., 0., 0., 0., 1., 1., 0., 1., 0., 1., 1., 1., 1., 1.,\n",
       "       1., 0., 1., 1., 1., 1., 1., 1., 0., 0., 0., 1., 0., 1., 1., 1., 0.,\n",
       "       1., 1., 1., 1., 1., 1., 1., 1., 1., 0., 1., 1., 0., 1., 1., 1., 1.,\n",
       "       1., 0., 1., 0., 1., 1., 1., 0., 1., 1., 1., 1., 1., 0., 1., 1., 0.,\n",
       "       0., 1., 1., 1., 1., 1., 1., 1., 1., 1., 1., 0., 0., 0., 1., 0., 1.,\n",
       "       1., 0., 0., 0., 0., 1., 0., 1., 1., 1., 1., 1., 1., 1., 1., 0., 0.,\n",
       "       0., 1., 1., 0., 1., 1., 0., 1., 1., 1., 1., 0., 0., 1., 1., 1., 1.,\n",
       "       1., 0., 0., 1., 1., 1., 1., 1., 1., 0., 1., 1., 1., 1., 1., 0., 1.,\n",
       "       0., 1., 1., 1., 1., 1., 0., 0., 1., 0., 1., 1., 1., 1., 0., 1., 1.,\n",
       "       1.], dtype=float32)"
      ]
     },
     "execution_count": 25,
     "metadata": {},
     "output_type": "execute_result"
    }
   ],
   "source": [
    "# Round to get actual prediction\n",
    "# Need to flatten array to be same shape as input\n",
    "p = np.round(p).flatten()\n",
    "p"
   ]
  },
  {
   "cell_type": "code",
   "execution_count": 26,
   "id": "73f9a194",
   "metadata": {},
   "outputs": [
    {
     "name": "stdout",
     "output_type": "stream",
     "text": [
      "Manually calculated accuracy:  0.9840425531914894\n",
      "6/6 [==============================] - 0s 5ms/step - loss: 0.0979 - accuracy: 0.9840\n",
      "TF accuracy:  [0.09791740775108337, 0.9840425848960876]\n"
     ]
    }
   ],
   "source": [
    "print(\"Manually calculated accuracy: \", np.mean(p == Y_test))\n",
    "print(\"TF accuracy: \", model.evaluate(X_test, Y_test))"
   ]
  },
  {
   "cell_type": "markdown",
   "id": "629c2fae",
   "metadata": {},
   "source": [
    "## Part 3: Saving and Loading Model"
   ]
  },
  {
   "cell_type": "code",
   "execution_count": 28,
   "id": "e4563f0d",
   "metadata": {},
   "outputs": [],
   "source": [
    "model.save('linearClassifier.h5')"
   ]
  },
  {
   "cell_type": "code",
   "execution_count": 30,
   "id": "0fbe446a",
   "metadata": {},
   "outputs": [
    {
     "name": "stdout",
     "output_type": "stream",
     "text": [
      "[<keras.layers.core.dense.Dense object at 0x2bf981dc0>]\n",
      "6/6 [==============================] - 0s 8ms/step - loss: 0.0979 - accuracy: 0.9840\n"
     ]
    },
    {
     "name": "stderr",
     "output_type": "stream",
     "text": [
      "2022-09-08 19:54:24.758162: I tensorflow/core/grappler/optimizers/custom_graph_optimizer_registry.cc:113] Plugin optimizer for device_type GPU is enabled.\n"
     ]
    },
    {
     "data": {
      "text/plain": [
       "[0.09791740775108337, 0.9840425848960876]"
      ]
     },
     "execution_count": 30,
     "metadata": {},
     "output_type": "execute_result"
    }
   ],
   "source": [
    "model = tf.keras.models.load_model('linearClassifier.h5')\n",
    "print(model.layers)\n",
    "model.evaluate(X_test, Y_test)"
   ]
  },
  {
   "cell_type": "code",
   "execution_count": null,
   "id": "52307272",
   "metadata": {},
   "outputs": [],
   "source": []
  }
 ],
 "metadata": {
  "kernelspec": {
   "display_name": "Python 3 (ipykernel)",
   "language": "python",
   "name": "python3"
  },
  "language_info": {
   "codemirror_mode": {
    "name": "ipython",
    "version": 3
   },
   "file_extension": ".py",
   "mimetype": "text/x-python",
   "name": "python",
   "nbconvert_exporter": "python",
   "pygments_lexer": "ipython3",
   "version": "3.8.13"
  }
 },
 "nbformat": 4,
 "nbformat_minor": 5
}
